{
 "cells": [
  {
   "cell_type": "markdown",
   "id": "a8cf9810",
   "metadata": {},
   "source": [
    "# Data"
   ]
  },
  {
   "cell_type": "code",
   "execution_count": 2,
   "id": "7d818c8c",
   "metadata": {},
   "outputs": [],
   "source": [
    "import pandas as pd\n",
    "import re\n",
    "import json"
   ]
  },
  {
   "cell_type": "code",
   "execution_count": 3,
   "id": "dc1fd865",
   "metadata": {},
   "outputs": [
    {
     "name": "stdout",
     "output_type": "stream",
     "text": [
      "<class 'pandas.core.frame.DataFrame'>\n",
      "RangeIndex: 56051 entries, 0 to 56050\n",
      "Data columns (total 23 columns):\n",
      " #   Column                  Non-Null Count  Dtype \n",
      "---  ------                  --------------  ----- \n",
      " 0   fdc_id                  56051 non-null  object\n",
      " 1   description             56051 non-null  object\n",
      " 2   brand                   56051 non-null  object\n",
      " 3   carb_amount_100g        56051 non-null  object\n",
      " 4   protein_amount_100g     56051 non-null  object\n",
      " 5   fat_amount_100g         56051 non-null  object\n",
      " 6   energy_amount_100g      56051 non-null  object\n",
      " 7   unit                    56051 non-null  object\n",
      " 8   unit_weight             56051 non-null  object\n",
      " 9   carb                    56051 non-null  object\n",
      " 10  proteain                13798 non-null  object\n",
      " 11  fat                     56051 non-null  object\n",
      " 12  energy                  56051 non-null  object\n",
      " 13  query                   56051 non-null  object\n",
      " 14  query_step1_raw         13798 non-null  object\n",
      " 15  query_step1             56051 non-null  object\n",
      " 16  query_step2_input       56051 non-null  object\n",
      " 17  query_step2             56051 non-null  object\n",
      " 18  components              56051 non-null  object\n",
      " 19  subset                  56051 non-null  object\n",
      " 20  query_step3             11800 non-null  object\n",
      " 21  query_step3_components  11800 non-null  object\n",
      " 22  protein                 42253 non-null  object\n",
      "dtypes: object(23)\n",
      "memory usage: 9.8+ MB\n",
      "None\n"
     ]
    },
    {
     "name": "stderr",
     "output_type": "stream",
     "text": [
      "/tmp/ipykernel_626997/2958092656.py:1: DtypeWarning: Columns (10,14,22) have mixed types. Specify dtype option on import or set low_memory=False.\n",
      "  df = pd.read_csv(\"train_v2.csv\")\n"
     ]
    }
   ],
   "source": [
    "df = pd.read_csv(\"train_v2.csv\")\n",
    "print(df.info())\n",
    "# print(df.head())"
   ]
  },
  {
   "cell_type": "code",
   "execution_count": 4,
   "id": "162ab105",
   "metadata": {},
   "outputs": [
    {
     "name": "stdout",
     "output_type": "stream",
     "text": [
      "                                               query  \\\n",
      "0       A large gluten-free roll is part of my meal.   \n",
      "1  For my meal, I am having a single pickled pig'...   \n",
      "2               Enjoying a piece of chocolate candy.   \n",
      "3       Consuming dried nutmeat made from butternut.   \n",
      "4  I am consuming 3 ounces of cooked braised beef...   \n",
      "\n",
      "                                          components     carb  \n",
      "0                           a large gluten-free roll  26.2444  \n",
      "1                             one pickled pig's foot   0.0085  \n",
      "2                         a piece of chocolate candy    4.752  \n",
      "3                          a butternut dried nutmeat   0.3615  \n",
      "4  3 oz cooked, braised beef chuck blade roast, t...      0.0  \n"
     ]
    }
   ],
   "source": [
    "df_train = df[[\"query\", \"components\", \"carb\"]]\n",
    "print(df_train.head())"
   ]
  }
 ],
 "metadata": {
  "kernelspec": {
   "display_name": "nutri",
   "language": "python",
   "name": "python3"
  },
  "language_info": {
   "codemirror_mode": {
    "name": "ipython",
    "version": 3
   },
   "file_extension": ".py",
   "mimetype": "text/x-python",
   "name": "python",
   "nbconvert_exporter": "python",
   "pygments_lexer": "ipython3",
   "version": "3.10.12"
  }
 },
 "nbformat": 4,
 "nbformat_minor": 5
}
