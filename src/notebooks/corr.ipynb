{
 "cells": [
  {
   "cell_type": "markdown",
   "id": "65ae440e",
   "metadata": {},
   "source": [
    "# Analyzing Correlation\n",
    "Answer question: In combined queries, does correct/incorrect prediction of earlier nutrient(s) affect accuracy of later nutrient(s)?\n",
    "\n",
    "1. correlation matrix of absolute error - combined vs. individual\n",
    "3. correlation matrix of pure error - combined vs. individual"
   ]
  },
  {
   "cell_type": "code",
   "execution_count": 1,
   "id": "74b2708c",
   "metadata": {},
   "outputs": [],
   "source": [
    "import pandas as pd\n",
    "import numpy as np\n",
    "import matplotlib.pyplot as plt"
   ]
  },
  {
   "cell_type": "code",
   "execution_count": 2,
   "id": "83e9fbe9",
   "metadata": {},
   "outputs": [],
   "source": [
    "def get_combined_results(file):\n",
    "    combined_df = pd.read_json(file, lines=True)\n",
    "\n",
    "    result_df = pd.json_normalize(combined_df[\"result\"])\n",
    "    result_df.columns = [col.replace(\".\", \"_\") for col in result_df.columns]\n",
    "\n",
    "    pred_df = pd.json_normalize(combined_df[\"pred\"])\n",
    "    doc_df = pd.json_normalize(combined_df[\"doc\"])\n",
    "\n",
    "    pred_df = pred_df.rename(columns={\"carb\" : \"carb_pred\", \"fat\" : \"fat_pred\", \"energy\" : \"energy_pred\", \"protein\" : \"protein_pred\"})\n",
    "\n",
    "\n",
    "    combined_results = pd.concat([\n",
    "        combined_df[[\"doc_id\", \"doc\"]],\n",
    "        doc_df[[\"carb\", \"fat\", \"energy\", \"protein\"]],\n",
    "        pred_df,\n",
    "        result_df[['carb_acc', 'carb_mae', 'carb_mse', 'fat_acc', 'fat_mae', 'fat_mse', 'energy_acc', \n",
    "                'energy_mae', 'energy_mse', 'protein_acc', 'protein_mae', 'protein_mse']]\n",
    "    ], axis=1)\n",
    "\n",
    "    return combined_results"
   ]
  },
  {
   "cell_type": "code",
   "execution_count": 3,
   "id": "81c219da",
   "metadata": {},
   "outputs": [
    {
     "name": "stdout",
     "output_type": "stream",
     "text": [
      "Index(['doc_id', 'doc', 'carb', 'fat', 'energy', 'protein', 'carb_pred',\n",
      "       'fat_pred', 'energy_pred', 'protein_pred', 'carb_acc', 'carb_mae',\n",
      "       'carb_mse', 'fat_acc', 'fat_mae', 'fat_mse', 'energy_acc', 'energy_mae',\n",
      "       'energy_mse', 'protein_acc', 'protein_mae', 'protein_mse'],\n",
      "      dtype='object')\n"
     ]
    }
   ],
   "source": [
    "file = \"/data/lucasjia/projects/nutri/results/multi-nutrient/sub1/samples_combined_base_20250719_194516.jsonl\"\n",
    "\n",
    "combined_results = get_combined_results(file)\n",
    "print(combined_results.columns)"
   ]
  },
  {
   "cell_type": "code",
   "execution_count": 4,
   "id": "ed0e7aae",
   "metadata": {},
   "outputs": [],
   "source": [
    "def get_indiv_results(files):\n",
    "    indiv_results = {}\n",
    "    base_df = pd.read_json(files[\"carb\"], lines=True)\n",
    "\n",
    "    for nutrient, filepath in files.items():\n",
    "        df = pd.read_json(filepath, lines=True)\n",
    "        results = pd.json_normalize(df[\"result\"])\n",
    "        doc = pd.json_normalize(df[\"doc\"])\n",
    "\n",
    "        indiv_results[nutrient] = doc[nutrient]\n",
    "        indiv_results[f\"{nutrient}_pred\"] = df[\"pred\"]\n",
    "        indiv_results[f\"{nutrient}_acc\"] = results[\"acc\"]\n",
    "        indiv_results[f\"{nutrient}_mae\"] = results[\"mae\"]\n",
    "\n",
    "    # Convert to final DataFrame\n",
    "    indiv_results_df = pd.concat([\n",
    "        base_df[[\"doc_id\"]],\n",
    "        pd.DataFrame(indiv_results)\n",
    "    ], axis=1)\n",
    "\n",
    "    return indiv_results_df"
   ]
  },
  {
   "cell_type": "code",
   "execution_count": 5,
   "id": "0e141354",
   "metadata": {},
   "outputs": [
    {
     "name": "stdout",
     "output_type": "stream",
     "text": [
      "   doc_id   carb  carb_pred  carb_acc  carb_mae    fat  fat_pred  fat_acc  \\\n",
      "0       0   0.00        0.0      True      0.00   0.00       0.0     True   \n",
      "1       1  63.41       58.4      True      5.01  14.82      20.5    False   \n",
      "2       2  18.38       24.0      True      5.62  18.08      15.0    False   \n",
      "3       3  26.39       36.5     False     10.11  30.70      28.1    False   \n",
      "4       4  42.07       38.4      True      3.67   9.64       5.6    False   \n",
      "\n",
      "   fat_mae  energy  energy_pred  energy_acc  energy_mae  protein  \\\n",
      "0     0.00    0.00          0.0        True        0.00     0.00   \n",
      "1     5.68  502.04        518.0        True       15.96    26.66   \n",
      "2     3.08  248.25        250.0        True        1.75     3.08   \n",
      "3     2.60  485.75        523.0        True       37.25    25.38   \n",
      "4     4.04  251.28        186.0       False       65.28     3.12   \n",
      "\n",
      "   protein_pred  protein_acc  protein_mae  \n",
      "0           0.0         True         0.00  \n",
      "1          21.2        False         5.46  \n",
      "2           3.0         True         0.08  \n",
      "3          20.1        False         5.28  \n",
      "4           4.1         True         0.98  \n"
     ]
    }
   ],
   "source": [
    "files = {\n",
    "    \"carb\": \"/data/lucasjia/projects/nutri/results/multi-nutrient/sub1/samples_carb_base_20250720_033502.jsonl\",\n",
    "    \"fat\": \"/data/lucasjia/projects/nutri/results/multi-nutrient/sub1/samples_fat_base_20250719_184222.jsonl\",\n",
    "    \"energy\": \"/data/lucasjia/projects/nutri/results/multi-nutrient/sub1/samples_energy_base_20250721_222318.jsonl\",\n",
    "    \"protein\": \"/data/lucasjia/projects/nutri/results/multi-nutrient/sub1/samples_protein_base_20250719_192710.jsonl\",\n",
    "}\n",
    "\n",
    "indiv_results_df = get_indiv_results(files)\n",
    "print(indiv_results_df.head())"
   ]
  },
  {
   "cell_type": "code",
   "execution_count": 6,
   "id": "020443af",
   "metadata": {},
   "outputs": [
    {
     "name": "stdout",
     "output_type": "stream",
     "text": [
      "             carb_mae   fat_mae  energy_mae  protein_mae\n",
      "carb_mae     1.000000  0.273352    0.621870     0.507155\n",
      "fat_mae      0.273352  1.000000    0.788847     0.507924\n",
      "energy_mae   0.621870  0.788847    1.000000     0.631438\n",
      "protein_mae  0.507155  0.507924    0.631438     1.000000\n",
      "             carb_mae   fat_mae  energy_mae  protein_mae\n",
      "carb_mae     1.000000  0.212044    0.515180     0.446933\n",
      "fat_mae      0.212044  1.000000    0.585662     0.270500\n",
      "energy_mae   0.515180  0.585662    1.000000     0.515830\n",
      "protein_mae  0.446933  0.270500    0.515830     1.000000\n"
     ]
    }
   ],
   "source": [
    "# correlation between mae for combined estimates vs individual estimates\n",
    "combined_mae = combined_results[[\"carb_mae\", \"fat_mae\", \"energy_mae\",\"protein_mae\"]]\n",
    "indiv_mae = indiv_results_df[[\"carb_mae\", \"fat_mae\", \"energy_mae\", \"protein_mae\",]]\n",
    "print(combined_mae.corr())\n",
    "print(indiv_mae.corr())"
   ]
  },
  {
   "cell_type": "code",
   "execution_count": 7,
   "id": "9e33c8ff",
   "metadata": {},
   "outputs": [],
   "source": [
    "def match_percentage_matrix(df):\n",
    "    cols = df.columns\n",
    "    n = len(df)\n",
    "    match_matrix = pd.DataFrame(index=cols, columns=cols, dtype=float)\n",
    "\n",
    "    for col1 in cols:\n",
    "        for col2 in cols:\n",
    "            match_matrix.loc[col1, col2] = np.mean(df[col1] == df[col2]) * 100  # percentage match\n",
    "\n",
    "    return match_matrix"
   ]
  },
  {
   "cell_type": "code",
   "execution_count": 8,
   "id": "7858f868",
   "metadata": {},
   "outputs": [
    {
     "name": "stdout",
     "output_type": "stream",
     "text": [
      "Match % (Combined Acc):\n",
      "                carb_acc     fat_acc  energy_acc  protein_acc\n",
      "carb_acc     100.000000   63.962264   78.113208    69.433962\n",
      "fat_acc       63.962264  100.000000   73.018868    69.245283\n",
      "energy_acc    78.113208   73.018868  100.000000    72.452830\n",
      "protein_acc   69.433962   69.245283   72.452830   100.000000\n",
      "Match % (Individual Acc):\n",
      "                carb_acc     fat_acc  energy_acc  protein_acc\n",
      "carb_acc     100.000000   65.849057   76.603774    68.867925\n",
      "fat_acc       65.849057  100.000000   69.622642    68.679245\n",
      "energy_acc    76.603774   69.622642  100.000000    69.245283\n",
      "protein_acc   68.867925   68.679245   69.245283   100.000000\n"
     ]
    }
   ],
   "source": [
    "# same with acc\n",
    "combined_acc = combined_results[[\"carb_acc\", \"fat_acc\", \"energy_acc\", \"protein_acc\"]]\n",
    "indiv_acc = indiv_results_df[[\"carb_acc\", \"fat_acc\", \"energy_acc\", \"protein_acc\"]]\n",
    "\n",
    "acc_match_combined = match_percentage_matrix(combined_acc)\n",
    "acc_match_indiv = match_percentage_matrix(indiv_acc)\n",
    "\n",
    "print(\"Match % (Combined Acc):\\n\", acc_match_combined)\n",
    "print(\"Match % (Individual Acc):\\n\", acc_match_indiv)"
   ]
  },
  {
   "cell_type": "markdown",
   "id": "80b28ce7",
   "metadata": {},
   "source": [
    "Correlation Between Pure Error - Combined vs. Individual"
   ]
  },
  {
   "cell_type": "code",
   "execution_count": 9,
   "id": "c41131f8",
   "metadata": {},
   "outputs": [
    {
     "name": "stdout",
     "output_type": "stream",
     "text": [
      "COMBINED PROMPTING:\n",
      "             carb_mae   fat_mae  energy_mae  protein_mae\n",
      "carb_mae     1.000000  0.273352    0.621870     0.507155\n",
      "fat_mae      0.273352  1.000000    0.788847     0.507924\n",
      "energy_mae   0.621870  0.788847    1.000000     0.631438\n",
      "protein_mae  0.507155  0.507924    0.631438     1.000000\n",
      "             carb_err   fat_err  energy_err  protein_err\n",
      "carb_err     1.000000  0.191531    0.664062     0.435384\n",
      "fat_err      0.191531  1.000000    0.768565     0.478140\n",
      "energy_err   0.664062  0.768565    1.000000     0.626502\n",
      "protein_err  0.435384  0.478140    0.626502     1.000000\n",
      "\n",
      " INDIVIDUAL PROMPTING:\n",
      "             carb_mae   fat_mae  energy_mae  protein_mae\n",
      "carb_mae     1.000000  0.212044    0.515180     0.446933\n",
      "fat_mae      0.212044  1.000000    0.585662     0.270500\n",
      "energy_mae   0.515180  0.585662    1.000000     0.515830\n",
      "protein_mae  0.446933  0.270500    0.515830     1.000000\n",
      "             carb_err   fat_err  energy_err  protein_err\n",
      "carb_err     1.000000  0.087102    0.497165     0.368573\n",
      "fat_err      0.087102  1.000000    0.566276     0.271191\n",
      "energy_err   0.497165  0.566276    1.000000     0.382320\n",
      "protein_err  0.368573  0.271191    0.382320     1.000000\n"
     ]
    }
   ],
   "source": [
    "carb_error = combined_results[\"carb_pred\"] - combined_results[\"carb\"]\n",
    "fat_error = combined_results[\"fat_pred\"] - combined_results[\"fat\"]\n",
    "energy_error = combined_results[\"energy_pred\"] - combined_results[\"energy\"]\n",
    "protein_error = combined_results[\"protein_pred\"] - combined_results[\"protein\"]\n",
    "\n",
    "combined_error = pd.DataFrame({\"carb_err\" : carb_error, \"fat_err\" : fat_error, \"energy_err\" : energy_error, \"protein_err\" : protein_error})\n",
    "\n",
    "carb_err = indiv_results_df[\"carb_pred\"] - indiv_results_df[\"carb\"]\n",
    "fat_err = indiv_results_df[\"fat_pred\"] - indiv_results_df[\"fat\"]\n",
    "energy_err = indiv_results_df[\"energy_pred\"] - indiv_results_df[\"energy\"]\n",
    "protein_err = indiv_results_df[\"protein_pred\"] - indiv_results_df[\"protein\"]\n",
    "\n",
    "indiv_error = pd.DataFrame({\"carb_err\" : carb_err, \"fat_err\" : fat_err, \"energy_err\" : energy_err, \"protein_err\" : protein_err})\n",
    "\n",
    "print(\"COMBINED PROMPTING:\")\n",
    "print(combined_mae.corr())\n",
    "print(combined_error.corr())\n",
    "print(\"\\n INDIVIDUAL PROMPTING:\")\n",
    "print(indiv_mae.corr())\n",
    "print(indiv_error.corr())"
   ]
  },
  {
   "cell_type": "markdown",
   "id": "24bab21a",
   "metadata": {},
   "source": [
    "Correlation Between Nutrients: \n",
    "\n",
    "MAE combined > Error combined > MAE individual > Error individual\n",
    "\n",
    "Do the correlation matrices for CoT match?"
   ]
  },
  {
   "cell_type": "code",
   "execution_count": 10,
   "id": "0908dcfd",
   "metadata": {},
   "outputs": [
    {
     "name": "stdout",
     "output_type": "stream",
     "text": [
      "             carb_mae   fat_mae  energy_mae  protein_mae\n",
      "carb_mae     1.000000  0.313969    0.664736     0.515518\n",
      "fat_mae      0.313969  1.000000    0.717565     0.529013\n",
      "energy_mae   0.664736  0.717565    1.000000     0.727328\n",
      "protein_mae  0.515518  0.529013    0.727328     1.000000\n",
      "             carb_mae   fat_mae  energy_mae  protein_mae\n",
      "carb_mae     1.000000  0.191954    0.513062     0.385466\n",
      "fat_mae      0.191954  1.000000    0.537609     0.531194\n",
      "energy_mae   0.513062  0.537609    1.000000     0.548389\n",
      "protein_mae  0.385466  0.531194    0.548389     1.000000\n"
     ]
    }
   ],
   "source": [
    "combined_cot_path = \"/data/lucasjia/projects/nutri/results/multi-nutrient/sub1/samples_combined_CoT_20250720_064149.jsonl\"\n",
    "combined_cot = get_combined_results(combined_cot_path)\n",
    "\n",
    "cot_files = {\n",
    "    \"carb\" : \"/data/lucasjia/projects/nutri/results/multi-nutrient/sub1/samples_carb_CoT_20250719_051735.jsonl\",\n",
    "    \"fat\" : \"/data/lucasjia/projects/nutri/results/multi-nutrient/sub1/samples_fat_CoT_20250720_050526.jsonl\",\n",
    "    \"energy\" : \"/data/lucasjia/projects/nutri/results/multi-nutrient/sub1/samples_energy_CoT_20250720_053252.jsonl\",\n",
    "    \"protein\" : \"/data/lucasjia/projects/nutri/results/multi-nutrient/sub1/samples_protein_CoT_20250720_060342.jsonl\"       \n",
    "}\n",
    "cot_results = get_indiv_results(cot_files)\n",
    "\n",
    "combined_cot_mae = combined_cot[[\"carb_mae\", \"fat_mae\", \"energy_mae\",\"protein_mae\"]]\n",
    "cot_mae = cot_results[[\"carb_mae\", \"fat_mae\", \"energy_mae\", \"protein_mae\",]]\n",
    "print(combined_cot_mae.corr())\n",
    "print(cot_mae.corr())"
   ]
  },
  {
   "cell_type": "code",
   "execution_count": 11,
   "id": "7ebfa5f8",
   "metadata": {},
   "outputs": [
    {
     "name": "stdout",
     "output_type": "stream",
     "text": [
      "COMBINED PROMPTING:\n",
      "base:\n",
      "             carb_mae   fat_mae  energy_mae  protein_mae\n",
      "carb_mae     1.000000  0.273352    0.621870     0.507155\n",
      "fat_mae      0.273352  1.000000    0.788847     0.507924\n",
      "energy_mae   0.621870  0.788847    1.000000     0.631438\n",
      "protein_mae  0.507155  0.507924    0.631438     1.000000\n",
      "             carb_err   fat_err  energy_err  protein_err\n",
      "carb_err     1.000000  0.191531    0.664062     0.435384\n",
      "fat_err      0.191531  1.000000    0.768565     0.478140\n",
      "energy_err   0.664062  0.768565    1.000000     0.626502\n",
      "protein_err  0.435384  0.478140    0.626502     1.000000\n",
      "CoT:\n",
      "             carb_mae   fat_mae  energy_mae  protein_mae\n",
      "carb_mae     1.000000  0.313969    0.664736     0.515518\n",
      "fat_mae      0.313969  1.000000    0.717565     0.529013\n",
      "energy_mae   0.664736  0.717565    1.000000     0.727328\n",
      "protein_mae  0.515518  0.529013    0.727328     1.000000\n",
      "             carb_err   fat_err  energy_err  protein_err\n",
      "carb_err     1.000000  0.233921    0.672894     0.469514\n",
      "fat_err      0.233921  1.000000    0.723750     0.499698\n",
      "energy_err   0.672894  0.723750    1.000000     0.725286\n",
      "protein_err  0.469514  0.499698    0.725286     1.000000\n"
     ]
    }
   ],
   "source": [
    "carb_cot_error = combined_cot[\"carb_pred\"] - combined_cot[\"carb\"]\n",
    "fat_cot_error = combined_cot[\"fat_pred\"] - combined_cot[\"fat\"]\n",
    "energy_cot_error = combined_cot[\"energy_pred\"] - combined_cot[\"energy\"]\n",
    "protein_cot_error = combined_cot[\"protein_pred\"] - combined_cot[\"protein\"]\n",
    "\n",
    "combined_cot_error = pd.DataFrame({\"carb_err\" : carb_cot_error, \"fat_err\" : fat_cot_error, \"energy_err\" : energy_cot_error, \"protein_err\" : protein_cot_error})\n",
    "\n",
    "carb_cot_err = cot_results[\"carb_pred\"] - cot_results[\"carb\"]\n",
    "fat_cot_err = cot_results[\"fat_pred\"] - cot_results[\"fat\"]\n",
    "energy_cot_err = cot_results[\"energy_pred\"] - cot_results[\"energy\"]\n",
    "protein_cot_err = cot_results[\"protein_pred\"] - cot_results[\"protein\"]\n",
    "\n",
    "cot_err = pd.DataFrame({\"carb_err\" : carb_cot_err, \"fat_err\" : fat_cot_err, \"energy_err\" : energy_cot_err, \"protein_err\" : protein_cot_err})\n",
    "\n",
    "\n",
    "print(\"COMBINED PROMPTING:\")\n",
    "print(\"base:\")\n",
    "print(combined_mae.corr())\n",
    "print(combined_error.corr())\n",
    "print(\"CoT:\")\n",
    "print(combined_cot_mae.corr())\n",
    "print(combined_cot_error.corr())"
   ]
  },
  {
   "cell_type": "code",
   "execution_count": 12,
   "id": "96e8c208",
   "metadata": {},
   "outputs": [
    {
     "name": "stdout",
     "output_type": "stream",
     "text": [
      "INDIVIDUAL PROMPTING:\n",
      "base:\n",
      "             carb_mae   fat_mae  energy_mae  protein_mae\n",
      "carb_mae     1.000000  0.212044    0.515180     0.446933\n",
      "fat_mae      0.212044  1.000000    0.585662     0.270500\n",
      "energy_mae   0.515180  0.585662    1.000000     0.515830\n",
      "protein_mae  0.446933  0.270500    0.515830     1.000000\n",
      "             carb_err   fat_err  energy_err  protein_err\n",
      "carb_err     1.000000  0.087102    0.497165     0.368573\n",
      "fat_err      0.087102  1.000000    0.566276     0.271191\n",
      "energy_err   0.497165  0.566276    1.000000     0.382320\n",
      "protein_err  0.368573  0.271191    0.382320     1.000000\n",
      "CoT:\n",
      "             carb_mae   fat_mae  energy_mae  protein_mae\n",
      "carb_mae     1.000000  0.191954    0.513062     0.385466\n",
      "fat_mae      0.191954  1.000000    0.537609     0.531194\n",
      "energy_mae   0.513062  0.537609    1.000000     0.548389\n",
      "protein_mae  0.385466  0.531194    0.548389     1.000000\n",
      "             carb_err   fat_err  energy_err  protein_err\n",
      "carb_err     1.000000  0.042450    0.505549     0.283393\n",
      "fat_err      0.042450  1.000000    0.511421     0.455551\n",
      "energy_err   0.505549  0.511421    1.000000     0.476120\n",
      "protein_err  0.283393  0.455551    0.476120     1.000000\n"
     ]
    }
   ],
   "source": [
    "print(\"INDIVIDUAL PROMPTING:\")\n",
    "print(\"base:\")\n",
    "print(indiv_mae.corr())\n",
    "print(indiv_error.corr())\n",
    "print(\"CoT:\")\n",
    "print(cot_mae.corr())\n",
    "print(cot_err.corr())"
   ]
  },
  {
   "cell_type": "code",
   "execution_count": null,
   "id": "b66c7987",
   "metadata": {},
   "outputs": [],
   "source": []
  }
 ],
 "metadata": {
  "kernelspec": {
   "display_name": "nutri",
   "language": "python",
   "name": "python3"
  },
  "language_info": {
   "codemirror_mode": {
    "name": "ipython",
    "version": 3
   },
   "file_extension": ".py",
   "mimetype": "text/x-python",
   "name": "python",
   "nbconvert_exporter": "python",
   "pygments_lexer": "ipython3",
   "version": "3.10.12"
  }
 },
 "nbformat": 4,
 "nbformat_minor": 5
}
