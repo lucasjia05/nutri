{
 "cells": [
  {
   "cell_type": "markdown",
   "id": "65ae440e",
   "metadata": {},
   "source": [
    "# Analyzing results\n",
    "Goal: Answer question - In combined queries, does correct/incorrect prediction of earlier nutrient(s) affect accuracy of later nutrient(s)?\n",
    "\n",
    "1. correlation matrix of absolute error - combined vs. individual\n",
    "3. correlation matrix of pure error - combined vs. individual"
   ]
  },
  {
   "cell_type": "code",
   "execution_count": 1,
   "id": "74b2708c",
   "metadata": {},
   "outputs": [],
   "source": [
    "import pandas as pd\n",
    "import numpy as np\n",
    "import matplotlib.pyplot as plt"
   ]
  },
  {
   "cell_type": "code",
   "execution_count": 17,
   "id": "83e9fbe9",
   "metadata": {},
   "outputs": [
    {
     "name": "stdout",
     "output_type": "stream",
     "text": [
      "Index(['doc_id', 'doc', 'carb', 'fat', 'energy', 'protein', 'carb_pred',\n",
      "       'fat_pred', 'energy_pred', 'protein_pred', 'carb_acc', 'carb_mae',\n",
      "       'carb_mse', 'fat_acc', 'fat_mae', 'fat_mse', 'energy_acc', 'energy_mae',\n",
      "       'energy_mse', 'protein_acc', 'protein_mae', 'protein_mse'],\n",
      "      dtype='object')\n"
     ]
    }
   ],
   "source": [
    "combined_df = pd.read_json(\"/data/lucasjia/projects/nutri/results/multi-nutrient/sub1/samples_combined_base_20250719_194516.jsonl\", lines=True)\n",
    "\n",
    "result_df = pd.json_normalize(combined_df[\"result\"])\n",
    "result_df.columns = [col.replace(\".\", \"_\") for col in result_df.columns]\n",
    "\n",
    "pred_df = pd.json_normalize(combined_df[\"pred\"])\n",
    "doc_df = pd.json_normalize(combined_df[\"doc\"])\n",
    "\n",
    "pred_df = pred_df.rename(columns={\"carb\" : \"carb_pred\", \"fat\" : \"fat_pred\", \"energy\" : \"energy_pred\", \"protein\" : \"protein_pred\"})\n",
    "\n",
    "\n",
    "combined_results = pd.concat([\n",
    "    combined_df[[\"doc_id\", \"doc\"]],\n",
    "    doc_df[[\"carb\", \"fat\", \"energy\", \"protein\"]],\n",
    "    pred_df,\n",
    "    result_df[['carb_acc', 'carb_mae', 'carb_mse', 'fat_acc', 'fat_mae', 'fat_mse', 'energy_acc', \n",
    "            'energy_mae', 'energy_mse', 'protein_acc', 'protein_mae', 'protein_mse']]\n",
    "], axis=1)\n",
    "\n",
    "print(combined_results.columns)"
   ]
  },
  {
   "cell_type": "code",
   "execution_count": 18,
   "id": "0e141354",
   "metadata": {},
   "outputs": [
    {
     "name": "stdout",
     "output_type": "stream",
     "text": [
      "   carb_acc  carb_mae  carb_mse  fat_acc  fat_mae  fat_mse  energy_acc  \\\n",
      "0      True      0.00    0.0000     True     0.00   0.0000        True   \n",
      "1      True      5.01   25.1001    False     5.68  32.2624        True   \n",
      "2      True      5.62   31.5844    False     3.08   9.4864        True   \n",
      "3     False     10.11  102.2121    False     2.60   6.7600        True   \n",
      "4      True      3.67   13.4689    False     4.04  16.3216       False   \n",
      "\n",
      "   energy_mae  energy_mse  protein_acc  protein_mae  protein_mse  \n",
      "0        0.00      0.0000         True         0.00       0.0000  \n",
      "1       15.96    254.7216        False         5.46      29.8116  \n",
      "2        1.75      3.0625         True         0.08       0.0064  \n",
      "3       37.25   1387.5625        False         5.28      27.8784  \n",
      "4       65.28   4261.4784         True         0.98       0.9604  \n"
     ]
    }
   ],
   "source": [
    "files = {\n",
    "    \"carb\": \"/data/lucasjia/projects/nutri/results/multi-nutrient/sub1/samples_carb_base_20250720_033502.jsonl\",\n",
    "    \"fat\": \"/data/lucasjia/projects/nutri/results/multi-nutrient/sub1/samples_fat_base_20250719_184222.jsonl\",\n",
    "    \"energy\": \"/data/lucasjia/projects/nutri/results/multi-nutrient/sub1/samples_energy_base_20250721_222318.jsonl\",\n",
    "    \"protein\": \"/data/lucasjia/projects/nutri/results/multi-nutrient/sub1/samples_protein_base_20250719_192710.jsonl\",\n",
    "}\n",
    "\n",
    "# Init empty results dictionary\n",
    "indiv_results = {}\n",
    "\n",
    "for nutrient, filepath in files.items():\n",
    "    df = pd.read_json(filepath, lines=True)\n",
    "    indiv_results[f\"{nutrient}_acc\"] = [r[\"acc\"] for r in df[\"result\"]]\n",
    "    indiv_results[f\"{nutrient}_mae\"] = [r[\"mae\"] for r in df[\"result\"]]\n",
    "    indiv_results[f\"{nutrient}_mse\"] = [r[\"mse\"] for r in df[\"result\"]]\n",
    "\n",
    "# Convert to final DataFrame\n",
    "indiv_results_df = pd.DataFrame(indiv_results)\n",
    "print(indiv_results_df.head())"
   ]
  },
  {
   "cell_type": "code",
   "execution_count": 19,
   "id": "020443af",
   "metadata": {},
   "outputs": [
    {
     "name": "stdout",
     "output_type": "stream",
     "text": [
      "             carb_mae   fat_mae  energy_mae  protein_mae\n",
      "carb_mae     1.000000  0.273352    0.621870     0.507155\n",
      "fat_mae      0.273352  1.000000    0.788847     0.507924\n",
      "energy_mae   0.621870  0.788847    1.000000     0.631438\n",
      "protein_mae  0.507155  0.507924    0.631438     1.000000\n",
      "             carb_mae   fat_mae  energy_mae  protein_mae\n",
      "carb_mae     1.000000  0.212044    0.515180     0.446933\n",
      "fat_mae      0.212044  1.000000    0.585662     0.270500\n",
      "energy_mae   0.515180  0.585662    1.000000     0.515830\n",
      "protein_mae  0.446933  0.270500    0.515830     1.000000\n"
     ]
    }
   ],
   "source": [
    "# correlation between mae for combined estimates vs individual estimates\n",
    "combined_mae = combined_results[[\"carb_mae\", \"fat_mae\", \"energy_mae\",\"protein_mae\"]]\n",
    "indiv_mae = indiv_results_df[[\"carb_mae\", \"fat_mae\", \"energy_mae\", \"protein_mae\",]]\n",
    "print(combined_mae.corr())\n",
    "print(indiv_mae.corr())"
   ]
  },
  {
   "cell_type": "code",
   "execution_count": 20,
   "id": "9e33c8ff",
   "metadata": {},
   "outputs": [],
   "source": [
    "def match_percentage_matrix(df):\n",
    "    cols = df.columns\n",
    "    n = len(df)\n",
    "    match_matrix = pd.DataFrame(index=cols, columns=cols, dtype=float)\n",
    "\n",
    "    for col1 in cols:\n",
    "        for col2 in cols:\n",
    "            match_matrix.loc[col1, col2] = np.mean(df[col1] == df[col2]) * 100  # percentage match\n",
    "\n",
    "    return match_matrix"
   ]
  },
  {
   "cell_type": "code",
   "execution_count": 22,
   "id": "7858f868",
   "metadata": {},
   "outputs": [
    {
     "name": "stdout",
     "output_type": "stream",
     "text": [
      "Match % (Combined Acc):\n",
      "                carb_acc     fat_acc  energy_acc  protein_acc\n",
      "carb_acc     100.000000   63.962264   78.113208    69.433962\n",
      "fat_acc       63.962264  100.000000   73.018868    69.245283\n",
      "energy_acc    78.113208   73.018868  100.000000    72.452830\n",
      "protein_acc   69.433962   69.245283   72.452830   100.000000\n",
      "Match % (Individual Acc):\n",
      "                carb_acc     fat_acc  energy_acc  protein_acc\n",
      "carb_acc     100.000000   65.849057   76.603774    68.867925\n",
      "fat_acc       65.849057  100.000000   69.622642    68.679245\n",
      "energy_acc    76.603774   69.622642  100.000000    69.245283\n",
      "protein_acc   68.867925   68.679245   69.245283   100.000000\n"
     ]
    }
   ],
   "source": [
    "# same with acc\n",
    "combined_acc = combined_results[[\"carb_acc\", \"fat_acc\", \"energy_acc\", \"protein_acc\"]]\n",
    "indiv_acc = indiv_results_df[[\"carb_acc\", \"fat_acc\", \"energy_acc\", \"protein_acc\"]]\n",
    "\n",
    "acc_match_combined = match_percentage_matrix(combined_acc)\n",
    "acc_match_indiv = match_percentage_matrix(indiv_acc)\n",
    "\n",
    "print(\"Match % (Combined Acc):\\n\", acc_match_combined)\n",
    "print(\"Match % (Individual Acc):\\n\", acc_match_indiv)"
   ]
  },
  {
   "cell_type": "markdown",
   "id": "80b28ce7",
   "metadata": {},
   "source": [
    "Correlation Between Pure Error - Combiend vs. Individual"
   ]
  },
  {
   "cell_type": "code",
   "execution_count": 23,
   "id": "c41131f8",
   "metadata": {},
   "outputs": [
    {
     "name": "stdout",
     "output_type": "stream",
     "text": [
      "             carb_mae   fat_mae  energy_mae  protein_mae\n",
      "carb_mae     1.000000  0.273352    0.621870     0.507155\n",
      "fat_mae      0.273352  1.000000    0.788847     0.507924\n",
      "energy_mae   0.621870  0.788847    1.000000     0.631438\n",
      "protein_mae  0.507155  0.507924    0.631438     1.000000\n",
      "               carb_error  fat_error  energy_error  protein_error\n",
      "carb_error       1.000000   0.191531      0.664062       0.435384\n",
      "fat_error        0.191531   1.000000      0.768565       0.478140\n",
      "energy_error     0.664062   0.768565      1.000000       0.626502\n",
      "protein_error    0.435384   0.478140      0.626502       1.000000\n"
     ]
    }
   ],
   "source": [
    "carb_error = combined_results[\"carb_pred\"].to_numpy() - combined_results[\"carb\"]\n",
    "fat_error = combined_results[\"fat_pred\"].to_numpy() - combined_results[\"fat\"]\n",
    "energy_error = combined_results[\"energy_pred\"].to_numpy() - combined_results[\"energy\"]\n",
    "protein_error = combined_results[\"protein_pred\"].to_numpy() - combined_results[\"protein\"]\n",
    "\n",
    "combined_error = pd.DataFrame({\"carb_error\" : carb_error, \"fat_error\" : fat_error, \"energy_error\" : energy_error, \"protein_error\" : protein_error})\n",
    "print(combined_mae.corr())\n",
    "print(combined_error.corr())"
   ]
  }
 ],
 "metadata": {
  "kernelspec": {
   "display_name": "nutri",
   "language": "python",
   "name": "python3"
  },
  "language_info": {
   "codemirror_mode": {
    "name": "ipython",
    "version": 3
   },
   "file_extension": ".py",
   "mimetype": "text/x-python",
   "name": "python",
   "nbconvert_exporter": "python",
   "pygments_lexer": "ipython3",
   "version": "3.10.12"
  }
 },
 "nbformat": 4,
 "nbformat_minor": 5
}
