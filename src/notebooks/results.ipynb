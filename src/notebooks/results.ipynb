{
 "cells": [
  {
   "cell_type": "markdown",
   "id": "65ae440e",
   "metadata": {},
   "source": [
    "# Analyzing results\n",
    "Question: In combined queries, does correct/incorrect prediction of earlier nutrient(s) affect accuracy of later nutrient(s)?"
   ]
  },
  {
   "cell_type": "code",
   "execution_count": 2,
   "id": "74b2708c",
   "metadata": {},
   "outputs": [],
   "source": [
    "import pandas as pd\n",
    "import numpy as np\n",
    "import matplotlib.pyplot as plt\n"
   ]
  },
  {
   "cell_type": "code",
   "execution_count": 21,
   "id": "83e9fbe9",
   "metadata": {},
   "outputs": [
    {
     "name": "stdout",
     "output_type": "stream",
     "text": [
      "Index(['doc_id', 'doc', 'result', 'carb_acc', 'carb_mae', 'carb_mse',\n",
      "       'protein_acc', 'protein_mae', 'protein_mse', 'fat_acc', 'fat_mae',\n",
      "       'fat_mse', 'energy_acc', 'energy_mae', 'energy_mse'],\n",
      "      dtype='object')\n"
     ]
    },
    {
     "name": "stderr",
     "output_type": "stream",
     "text": [
      "/tmp/ipykernel_214324/1141090224.py:16: SettingWithCopyWarning: \n",
      "A value is trying to be set on a copy of a slice from a DataFrame.\n",
      "Try using .loc[row_indexer,col_indexer] = value instead\n",
      "\n",
      "See the caveats in the documentation: https://pandas.pydata.org/pandas-docs/stable/user_guide/indexing.html#returning-a-view-versus-a-copy\n",
      "  combined_results[f\"{nutrient}_acc\"] = acc\n",
      "/tmp/ipykernel_214324/1141090224.py:17: SettingWithCopyWarning: \n",
      "A value is trying to be set on a copy of a slice from a DataFrame.\n",
      "Try using .loc[row_indexer,col_indexer] = value instead\n",
      "\n",
      "See the caveats in the documentation: https://pandas.pydata.org/pandas-docs/stable/user_guide/indexing.html#returning-a-view-versus-a-copy\n",
      "  combined_results[f\"{nutrient}_mae\"] = mae\n",
      "/tmp/ipykernel_214324/1141090224.py:18: SettingWithCopyWarning: \n",
      "A value is trying to be set on a copy of a slice from a DataFrame.\n",
      "Try using .loc[row_indexer,col_indexer] = value instead\n",
      "\n",
      "See the caveats in the documentation: https://pandas.pydata.org/pandas-docs/stable/user_guide/indexing.html#returning-a-view-versus-a-copy\n",
      "  combined_results[f\"{nutrient }_mse\"] = mse\n",
      "/tmp/ipykernel_214324/1141090224.py:16: SettingWithCopyWarning: \n",
      "A value is trying to be set on a copy of a slice from a DataFrame.\n",
      "Try using .loc[row_indexer,col_indexer] = value instead\n",
      "\n",
      "See the caveats in the documentation: https://pandas.pydata.org/pandas-docs/stable/user_guide/indexing.html#returning-a-view-versus-a-copy\n",
      "  combined_results[f\"{nutrient}_acc\"] = acc\n",
      "/tmp/ipykernel_214324/1141090224.py:17: SettingWithCopyWarning: \n",
      "A value is trying to be set on a copy of a slice from a DataFrame.\n",
      "Try using .loc[row_indexer,col_indexer] = value instead\n",
      "\n",
      "See the caveats in the documentation: https://pandas.pydata.org/pandas-docs/stable/user_guide/indexing.html#returning-a-view-versus-a-copy\n",
      "  combined_results[f\"{nutrient}_mae\"] = mae\n"
     ]
    }
   ],
   "source": [
    "combined_df = pd.read_json(\"/data/lucasjia/projects/nutri/results/multi-nutrient/sub1/samples_combined_base_20250719_194516.jsonl\", lines=True)\n",
    "\n",
    "# print(combined_df.columns)\n",
    "combined_results = combined_df[[\"doc_id\", \"doc\", \"result\"]]\n",
    "# print(results[\"result\"].iloc[0])\n",
    "\n",
    "for nutrient in [\"carb\", \"protein\", \"fat\", \"energy\"]:\n",
    "    acc = []\n",
    "    mae = []\n",
    "    mse = []\n",
    "    for result in combined_results[\"result\"]:\n",
    "        acc.append(result[nutrient][\"acc\"])\n",
    "        mae.append(result[nutrient][\"mae\"])\n",
    "        mse.append(result[nutrient][\"mse\"])\n",
    "\n",
    "    combined_results[f\"{nutrient}_acc\"] = acc\n",
    "    combined_results[f\"{nutrient}_mae\"] = mae\n",
    "    combined_results[f\"{nutrient }_mse\"] = mse\n",
    "\n",
    "print(combined_results.columns)\n"
   ]
  },
  {
   "cell_type": "code",
   "execution_count": 22,
   "id": "0e141354",
   "metadata": {},
   "outputs": [
    {
     "name": "stdout",
     "output_type": "stream",
     "text": [
      "   carb_acc  carb_mae  carb_mse  protein_acc  protein_mae  protein_mse  \\\n",
      "0      True      0.00    0.0000         True         0.00       0.0000   \n",
      "1      True      5.01   25.1001        False         5.46      29.8116   \n",
      "2      True      5.62   31.5844         True         0.08       0.0064   \n",
      "3     False     10.11  102.2121        False         5.28      27.8784   \n",
      "4      True      3.67   13.4689         True         0.98       0.9604   \n",
      "\n",
      "   fat_acc  fat_mae  fat_mse  energy_acc  energy_mae  energy_mse  \n",
      "0     True     0.00   0.0000        True        0.00      0.0000  \n",
      "1    False     5.68  32.2624        True       15.96    254.7216  \n",
      "2    False     3.08   9.4864        True        1.75      3.0625  \n",
      "3    False     2.60   6.7600        True       37.25   1387.5625  \n",
      "4    False     4.04  16.3216       False       65.28   4261.4784  \n"
     ]
    }
   ],
   "source": [
    "files = {\n",
    "    \"carb\": \"/data/lucasjia/projects/nutri/results/multi-nutrient/sub1/samples_carb_base_20250720_033502.jsonl\",\n",
    "    \"protein\": \"/data/lucasjia/projects/nutri/results/multi-nutrient/sub1/samples_protein_base_20250719_192710.jsonl\",\n",
    "    \"fat\": \"/data/lucasjia/projects/nutri/results/multi-nutrient/sub1/samples_fat_base_20250719_184222.jsonl\",\n",
    "    \"energy\": \"/data/lucasjia/projects/nutri/results/multi-nutrient/sub1/samples_energy_base_20250721_222318.jsonl\",\n",
    "}\n",
    "\n",
    "# Init empty results dictionary\n",
    "indiv_results = {}\n",
    "\n",
    "for nutrient, filepath in files.items():\n",
    "    df = pd.read_json(filepath, lines=True)\n",
    "    indiv_results[f\"{nutrient}_acc\"] = [r[\"acc\"] for r in df[\"result\"]]\n",
    "    indiv_results[f\"{nutrient}_mae\"] = [r[\"mae\"] for r in df[\"result\"]]\n",
    "    indiv_results[f\"{nutrient}_mse\"] = [r[\"mse\"] for r in df[\"result\"]]\n",
    "\n",
    "# Convert to final DataFrame\n",
    "indiv_results_df = pd.DataFrame(indiv_results)\n",
    "print(indiv_results_df.head())"
   ]
  },
  {
   "cell_type": "code",
   "execution_count": null,
   "id": "020443af",
   "metadata": {},
   "outputs": [
    {
     "name": "stdout",
     "output_type": "stream",
     "text": [
      "             carb_mae  protein_mae   fat_mae  energy_mae\n",
      "carb_mae     1.000000     0.507155  0.273352    0.621870\n",
      "protein_mae  0.507155     1.000000  0.507924    0.631438\n",
      "fat_mae      0.273352     0.507924  1.000000    0.788847\n",
      "energy_mae   0.621870     0.631438  0.788847    1.000000\n",
      "             carb_mae  protein_mae   fat_mae  energy_mae\n",
      "carb_mae     1.000000     0.446933  0.212044    0.515180\n",
      "protein_mae  0.446933     1.000000  0.270500    0.515830\n",
      "fat_mae      0.212044     0.270500  1.000000    0.585662\n",
      "energy_mae   0.515180     0.515830  0.585662    1.000000\n"
     ]
    }
   ],
   "source": [
    "# correlation between mae for combined estimates vs individual estimates\n",
    "combined_mae = combined_results[[\"carb_mae\", \"protein_mae\", \"fat_mae\", \"energy_mae\"]]\n",
    "indiv_mae = indiv_results_df[[\"carb_mae\", \"protein_mae\", \"fat_mae\", \"energy_mae\"]]\n",
    "print(combined_mae.corr())\n",
    "print(indiv_mae.corr())"
   ]
  },
  {
   "cell_type": "code",
   "execution_count": 24,
   "id": "9e33c8ff",
   "metadata": {},
   "outputs": [],
   "source": [
    "def match_percentage_matrix(df):\n",
    "    cols = df.columns\n",
    "    n = len(df)\n",
    "    match_matrix = pd.DataFrame(index=cols, columns=cols, dtype=float)\n",
    "\n",
    "    for col1 in cols:\n",
    "        for col2 in cols:\n",
    "            match_matrix.loc[col1, col2] = np.mean(df[col1] == df[col2]) * 100  # percentage match\n",
    "\n",
    "    return match_matrix"
   ]
  },
  {
   "cell_type": "code",
   "execution_count": null,
   "id": "7858f868",
   "metadata": {},
   "outputs": [
    {
     "name": "stdout",
     "output_type": "stream",
     "text": [
      "Match % (Combined Acc):\n",
      "                carb_acc  protein_acc     fat_acc  energy_acc\n",
      "carb_acc     100.000000    69.433962   63.962264   78.113208\n",
      "protein_acc   69.433962   100.000000   69.245283   72.452830\n",
      "fat_acc       63.962264    69.245283  100.000000   73.018868\n",
      "energy_acc    78.113208    72.452830   73.018868  100.000000\n",
      "Match % (Individual Acc):\n",
      "                carb_acc  protein_acc     fat_acc  energy_acc\n",
      "carb_acc     100.000000    68.867925   65.849057   76.603774\n",
      "protein_acc   68.867925   100.000000   68.679245   69.245283\n",
      "fat_acc       65.849057    68.679245  100.000000   69.622642\n",
      "energy_acc    76.603774    69.245283   69.622642  100.000000\n"
     ]
    }
   ],
   "source": [
    "# same with acc\n",
    "combined_acc = combined_results[[\"carb_acc\", \"protein_acc\", \"fat_acc\", \"energy_acc\"]]\n",
    "indiv_acc = indiv_results_df[[\"carb_acc\", \"protein_acc\", \"fat_acc\", \"energy_acc\"]]\n",
    "\n",
    "acc_match_combined = match_percentage_matrix(combined_acc)\n",
    "acc_match_indiv = match_percentage_matrix(indiv_acc)\n",
    "\n",
    "print(\"Match % (Combined Acc):\\n\", acc_match_combined)\n",
    "print(\"Match % (Individual Acc):\\n\", acc_match_indiv)"
   ]
  }
 ],
 "metadata": {
  "kernelspec": {
   "display_name": "nutri",
   "language": "python",
   "name": "python3"
  },
  "language_info": {
   "codemirror_mode": {
    "name": "ipython",
    "version": 3
   },
   "file_extension": ".py",
   "mimetype": "text/x-python",
   "name": "python",
   "nbconvert_exporter": "python",
   "pygments_lexer": "ipython3",
   "version": "3.10.12"
  }
 },
 "nbformat": 4,
 "nbformat_minor": 5
}
