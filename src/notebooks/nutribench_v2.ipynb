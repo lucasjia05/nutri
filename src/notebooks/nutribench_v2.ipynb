{
 "cells": [
  {
   "cell_type": "code",
   "execution_count": 4,
   "id": "613e0e48",
   "metadata": {},
   "outputs": [],
   "source": [
    "import pandas as pd\n",
    "import numpy as np"
   ]
  },
  {
   "cell_type": "code",
   "execution_count": 3,
   "id": "27e7cb06",
   "metadata": {},
   "outputs": [
    {
     "name": "stdout",
     "output_type": "stream",
     "text": [
      "                                    meal_description   carb   fat  energy  \\\n",
      "0  For breakfast, I ate a plain bun weighing 126 ...   90.8   4.2   439.0   \n",
      "1  For lunch, I had 171 grams of boiled fresh gro...   97.8  37.8   806.0   \n",
      "2  I’ve got 9 grams of boiled kasepa fish, 34 gra...   51.2  14.2   363.0   \n",
      "3  I had a breakfast consisting of 51g of raw whi...  163.8   8.9   792.0   \n",
      "4  For dinner, I had 105g of raw maize flour alon...   81.1   4.6   390.0   \n",
      "\n",
      "   protein country serving_type  \n",
      "0      9.6     ZMB       metric  \n",
      "1     27.9     ZMB       metric  \n",
      "2      8.7     ZMB       metric  \n",
      "3     19.0     ZMB       metric  \n",
      "4      8.4     ZMB       metric  \n"
     ]
    }
   ],
   "source": [
    "df = pd.read_parquet(\"hf://datasets/dongx1997/NutriBench/v2/train-00000-of-00001.parquet\")\n",
    "df.to_csv(\"/data/lucasjia/data/nutribench_v2.csv\", index=False)\n",
    "print(df.head())"
   ]
  },
  {
   "cell_type": "code",
   "execution_count": null,
   "id": "da8735a2",
   "metadata": {},
   "outputs": [],
   "source": [
    "def train_test_split_csv(df, test_size= 0.2, random_state=42):\n",
    "\n",
    "    np.random.seed(random_state)\n",
    "    shuffled_idx = np.random.permutation(len(df))\n",
    "    \n",
    "    test_len = int(len(df) * test_size)\n",
    "    test_idx = shuffled_idx[:test_len]\n",
    "    train_idx = shuffled_idx[test_len:]\n",
    "    \n",
    "    # Split\n",
    "    df_train = df.iloc[train_idx].reset_index(drop=True)\n",
    "    df_test = df.iloc[test_idx].reset_index(drop=True)\n",
    "    \n",
    "    # Save\n",
    "    df_train.to_csv(\"/data/lucasjia/data/nutribench_v2_train_\" + str(len(df_train)) + \".csv\", index=False)\n",
    "    df_test.to_csv(\"/data/lucasjia/data/nutribench_v2_test_\" + str(len(df_test)) + \".csv\", index=False)\n",
    "    \n",
    "    print(f\"✅ Saved {len(df_train)} rows to train\")\n",
    "    print(f\"✅ Saved {len(df_test)} rows to test\")\n",
    "    return df_train, df_test"
   ]
  },
  {
   "cell_type": "code",
   "execution_count": 8,
   "id": "3f69ad50",
   "metadata": {},
   "outputs": [
    {
     "name": "stdout",
     "output_type": "stream",
     "text": [
      "✅ Saved 14056 rows to train\n",
      "✅ Saved 1561 rows to test\n"
     ]
    },
    {
     "data": {
      "text/plain": [
       "(                                        meal_description    carb    fat  \\\n",
       " 0      For lunch I am having 254.6g of Cola-type drin...   92.60   7.00   \n",
       " 1      I’ve got a serving of 250 grams of pasta in cr...   79.42  24.43   \n",
       " 2      For lunch, I’m eating a large baked potato wit...   76.23  43.20   \n",
       " 3      I'm enjoying a meat and cheese calzone that we...  163.09  82.31   \n",
       " 4      For breakfast, I'm having 6.7g of apples, alon...   14.10  12.61   \n",
       " ...                                                  ...     ...    ...   \n",
       " 14051  For lunch, I'm having 14.2 grams of milk choco...   71.75  17.61   \n",
       " 14052  I'm enjoying a large Pan Dulce with sugar topp...   65.37  14.87   \n",
       " 14053  I enjoyed a chicken fillet sandwich weighing a...   54.47   7.78   \n",
       " 14054  For lunch, I'm having 50g of bread with a 50g ...   35.90  12.10   \n",
       " 14055  I have a 112-gram peanut butter and jelly sand...   44.60  18.52   \n",
       " \n",
       "         energy  protein country serving_type  \n",
       " 0       461.00     6.80     MEX       metric  \n",
       " 1       571.24    10.15     USA       metric  \n",
       " 2       781.68    25.36     USA      natural  \n",
       " 3      1652.58    64.47     USA       metric  \n",
       " 4       198.00     7.96     PER       metric  \n",
       " ...        ...      ...     ...          ...  \n",
       " 14051   461.72     9.13     USA       metric  \n",
       " 14052   433.84    10.13     USA      natural  \n",
       " 14053   378.07    22.71     USA       metric  \n",
       " 14054   356.00    25.90     ROU       metric  \n",
       " 14055   386.64    13.29     USA       metric  \n",
       " \n",
       " [14056 rows x 7 columns],\n",
       "                                        meal_description   carb    fat  energy  \\\n",
       " 0     For lunch today, I'm enjoying a cup of reduced...  74.52  23.03  621.10   \n",
       " 1     For my lunch, I have 250 grams of pasta with a...  46.02  19.92  392.50   \n",
       " 2     For my snack, I ate 9.8 grams of milk chocolat...  11.19   6.12  104.97   \n",
       " 3     I'm having a lunch of 132 grams of nachos cove...  46.08  28.38  452.76   \n",
       " 4     Dinner consists of 8 fl oz of brewed coffee an...  21.21  20.93  483.30   \n",
       " ...                                                 ...    ...    ...     ...   \n",
       " 1556  For my snack, there's 240 grams of unsweetened...   3.20   2.34   36.60   \n",
       " 1557  For lunch, I have 17g of fresh green cabbage, ...  95.30   5.70  495.00   \n",
       " 1558  I enjoyed a meat burrito weighing 270 grams al...  77.56  40.03  809.64   \n",
       " 1559  For lunch, I'm having a 50g Balance Original N...  52.05  14.51  410.03   \n",
       " 1560  I grabbed a 12 fl oz can of cola with a small ...  54.20   9.63  292.60   \n",
       " \n",
       "       protein country serving_type  \n",
       " 0       30.24     USA      natural  \n",
       " 1        8.52     USA       metric  \n",
       " 2        1.37     USA       metric  \n",
       " 3        5.70     USA       metric  \n",
       " 4       52.11     USA      natural  \n",
       " ...       ...     ...          ...  \n",
       " 1556     0.98     USA       metric  \n",
       " 1557    13.90     ZMB       metric  \n",
       " 1558    35.15     USA       metric  \n",
       " 1559    18.34     USA       metric  \n",
       " 1560     1.82     USA      natural  \n",
       " \n",
       " [1561 rows x 7 columns])"
      ]
     },
     "execution_count": 8,
     "metadata": {},
     "output_type": "execute_result"
    }
   ],
   "source": [
    "train_test_split_csv(df, test_size= 0.1, random_state=42)"
   ]
  }
 ],
 "metadata": {
  "kernelspec": {
   "display_name": "nutri",
   "language": "python",
   "name": "python3"
  },
  "language_info": {
   "codemirror_mode": {
    "name": "ipython",
    "version": 3
   },
   "file_extension": ".py",
   "mimetype": "text/x-python",
   "name": "python",
   "nbconvert_exporter": "python",
   "pygments_lexer": "ipython3",
   "version": "3.10.12"
  }
 },
 "nbformat": 4,
 "nbformat_minor": 5
}
