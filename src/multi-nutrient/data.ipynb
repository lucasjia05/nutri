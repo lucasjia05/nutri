{
 "cells": [
  {
   "cell_type": "markdown",
   "id": "4ebfbb5f",
   "metadata": {},
   "source": [
    "# Data Preprocessing"
   ]
  },
  {
   "cell_type": "markdown",
   "id": "9ca72c20",
   "metadata": {},
   "source": [
    "500 prompts representative of full dataset"
   ]
  },
  {
   "cell_type": "code",
   "execution_count": 1,
   "id": "d5a1916b",
   "metadata": {},
   "outputs": [],
   "source": [
    "import pandas as pd\n",
    "import numpy as np\n",
    "from api import process_gt"
   ]
  },
  {
   "cell_type": "code",
   "execution_count": 2,
   "id": "0a9b154a",
   "metadata": {},
   "outputs": [
    {
     "name": "stdout",
     "output_type": "stream",
     "text": [
      "                                         description  \\\n",
      "0  ['bread,bun,plain', 'sugar,white,raw (zambia s...   \n",
      "1  ['groundnuts,in-shell,fresh,boiled', 'sweetpot...   \n",
      "2  ['* fish,kasepa(type 6),dried,raw *boiled*', '...   \n",
      "3  ['* maize flour,white variety,roller meal (unr...   \n",
      "4  ['* maize flour,white variety,roller meal (unr...   \n",
      "\n",
      "                                     carb  \\\n",
      "0                            [63.8, 27.0]   \n",
      "1                            [36.4, 61.4]   \n",
      "2             [0.0, 26.1, 0.3, 0.4, 24.4]   \n",
      "3  [39.2, 0.5, 0.7, 8.7, 8.4, 35.5, 70.8]   \n",
      "4              [80.7, 0.1, 0.1, 0.2, 0.0]   \n",
      "\n",
      "                                   fat                          energy  \\\n",
      "0                           [4.2, 0.0]                      [335, 104]   \n",
      "1                          [37.6, 0.2]                      [544, 262]   \n",
      "2           [1.9, 1.3, 0.0, 0.0, 11.0]            [33, 123, 1, 2, 204]   \n",
      "3  [2.0, 0.0, 0.0, 6.4, 0.1, 0.1, 0.3]  [184, 2, 3, 116, 33, 152, 302]   \n",
      "4            [4.1, 0.0, 0.0, 0.0, 0.5]               [379, 0, 1, 1, 9]   \n",
      "\n",
      "                               protein country amount_type  \\\n",
      "0                           [9.6, 0.0]     ZMB      metric   \n",
      "1                          [23.1, 4.8]     ZMB      metric   \n",
      "2            [3.8, 2.3, 0.0, 0.1, 2.5]     ZMB      metric   \n",
      "3  [3.5, 0.1, 0.2, 6.2, 0.6, 2.8, 5.6]     ZMB      metric   \n",
      "4            [7.2, 0.0, 0.2, 0.0, 1.0]     ZMB      metric   \n",
      "\n",
      "                                             queries  \n",
      "0  For breakfast, I ate a plain bun weighing 126 ...  \n",
      "1  For lunch, I had 171 grams of boiled fresh gro...  \n",
      "2  I’ve got 9 grams of boiled kasepa fish, 34 gra...  \n",
      "3  I had a breakfast consisting of 51g of raw whi...  \n",
      "4  For dinner, I had 105g of raw maize flour alon...  \n",
      "<class 'pandas.core.frame.DataFrame'>\n",
      "RangeIndex: 15631 entries, 0 to 15630\n",
      "Data columns (total 8 columns):\n",
      " #   Column       Non-Null Count  Dtype \n",
      "---  ------       --------------  ----- \n",
      " 0   description  15631 non-null  object\n",
      " 1   carb         15631 non-null  object\n",
      " 2   fat          15631 non-null  object\n",
      " 3   energy       15631 non-null  object\n",
      " 4   protein      15631 non-null  object\n",
      " 5   country      15631 non-null  object\n",
      " 6   amount_type  15631 non-null  object\n",
      " 7   queries      15631 non-null  object\n",
      "dtypes: object(8)\n",
      "memory usage: 977.1+ KB\n",
      "None\n",
      "<class 'str'>\n",
      "<class 'str'>\n"
     ]
    }
   ],
   "source": [
    "file = \"/data/lucasjia/data/nutribench_v2_from_laya.csv\"\n",
    "nb_df = pd.read_csv(file)\n",
    "print(nb_df.head())\n",
    "print(nb_df.info())\n",
    "print(type(nb_df[\"carb\"][10]))\n",
    "print(type(nb_df[\"queries\"][0]))"
   ]
  },
  {
   "cell_type": "code",
   "execution_count": 3,
   "id": "64799fc4",
   "metadata": {},
   "outputs": [
    {
     "name": "stdout",
     "output_type": "stream",
     "text": [
      "['ZMB' 'ITA' 'PER' 'LKA' 'ROU' 'KNA' 'TUN' 'PAK' 'PHL' 'BRA' 'ETH' 'GTM'\n",
      " 'STP' 'MYS' 'ARG' 'CRI' 'IND' 'COD' 'LAO' 'BGR' 'USA' 'MEX' 'KEN' 'BFA']\n",
      "24\n",
      "[11072   200   200   200   200   200   200   200   200   200   200   200\n",
      "   200   200   200   200   200   200   200   200   200   200   200   159]\n",
      "country\n",
      "USA    11072\n",
      "ZMB      200\n",
      "PER      200\n",
      "ITA      200\n",
      "ROU      200\n",
      "KNA      200\n",
      "TUN      200\n",
      "LKA      200\n",
      "PAK      200\n",
      "PHL      200\n",
      "ETH      200\n",
      "BRA      200\n",
      "MYS      200\n",
      "ARG      200\n",
      "CRI      200\n",
      "GTM      200\n",
      "BGR      200\n",
      "IND      200\n",
      "LAO      200\n",
      "COD      200\n",
      "KEN      200\n",
      "MEX      200\n",
      "BFA      200\n",
      "STP      159\n",
      "Name: count, dtype: int64\n",
      "[354   6   6   6   6   6   6   6   6   6   6   6   6   6   6   6   6   6\n",
      "   6   6   6   6   6   5]\n"
     ]
    }
   ],
   "source": [
    "countries = nb_df[\"country\"].unique()\n",
    "country_counts = np.array(nb_df[\"country\"].value_counts().to_list())\n",
    "print(countries)\n",
    "print(len(countries))\n",
    "print(country_counts)\n",
    "print(nb_df[\"country\"].value_counts())\n",
    "\n",
    "country_subsets = (country_counts * 500) // 15631\n",
    "print(country_subsets)"
   ]
  },
  {
   "cell_type": "markdown",
   "id": "d067782a",
   "metadata": {},
   "source": [
    "USA: 300, other countries: 10"
   ]
  },
  {
   "cell_type": "code",
   "execution_count": 4,
   "id": "32c42370",
   "metadata": {},
   "outputs": [
    {
     "name": "stdout",
     "output_type": "stream",
     "text": [
      "country\n",
      "USA    300\n",
      "ZMB     10\n",
      "ITA     10\n",
      "PER     10\n",
      "LKA     10\n",
      "ROU     10\n",
      "KNA     10\n",
      "TUN     10\n",
      "PAK     10\n",
      "PHL     10\n",
      "BRA     10\n",
      "ETH     10\n",
      "GTM     10\n",
      "STP     10\n",
      "MYS     10\n",
      "ARG     10\n",
      "CRI     10\n",
      "IND     10\n",
      "COD     10\n",
      "LAO     10\n",
      "BGR     10\n",
      "MEX     10\n",
      "KEN     10\n",
      "BFA     10\n",
      "Name: count, dtype: int64\n"
     ]
    }
   ],
   "source": [
    "usa_subset = nb_df[nb_df[\"country\"] ==\"USA\"].head(300)\n",
    "other_subset = nb_df[nb_df[\"country\"] != \"USA\"].groupby(\"country\").head(10)\n",
    "# print(usa_subset)\n",
    "# print(other_subset)\n",
    "nb_subset = pd.concat([usa_subset, other_subset]).reset_index(drop=True)\n",
    "print(nb_subset[\"country\"].value_counts())\n",
    "# nb_subset.to_csv(\"/data/lucasjia/projects/nutri/src/multi-nutrient/nb_v2_sub_laya.csv\", index=False)"
   ]
  },
  {
   "cell_type": "code",
   "execution_count": 5,
   "id": "6a3eb29d",
   "metadata": {},
   "outputs": [
    {
     "name": "stdout",
     "output_type": "stream",
     "text": [
      "carb        52.387393\n",
      "protein     13.890100\n",
      "fat         14.821898\n",
      "energy     396.599786\n",
      "dtype: float64\n"
     ]
    }
   ],
   "source": [
    "nb_df[\"carb\"] = nb_df[\"carb\"].apply(process_gt)\n",
    "nb_df[\"protein\"] = nb_df[\"protein\"].apply(process_gt)\n",
    "nb_df[\"fat\"] = nb_df[\"fat\"].apply(process_gt)\n",
    "nb_df[\"energy\"] = nb_df[\"energy\"].apply(process_gt)\n",
    "\n",
    "print(nb_df[[\"carb\", \"protein\", \"fat\", \"energy\"]].mean())"
   ]
  },
  {
   "cell_type": "markdown",
   "id": "bcb13268",
   "metadata": {},
   "source": [
    "Process nutrient values into floats"
   ]
  },
  {
   "cell_type": "code",
   "execution_count": 9,
   "id": "42044662",
   "metadata": {},
   "outputs": [
    {
     "name": "stdout",
     "output_type": "stream",
     "text": [
      "carb        51.236981\n",
      "protein     12.143283\n",
      "fat         13.454717\n",
      "energy     370.127377\n",
      "dtype: float64\n"
     ]
    }
   ],
   "source": [
    "for nutrient in [\"carb\", \"protein\", \"fat\", \"energy\"]:\n",
    "    nb_subset[nutrient] = nb_subset[nutrient].apply(process_gt)\n",
    "\n",
    "nb_subset = nb_subset.rename(columns={\"amount_type\" : \"serving_type\"})\n",
    "\n",
    "print(nb_subset[[\"carb\", \"protein\", \"fat\", \"energy\"]].mean())\n",
    "nb_subset.to_csv(\"/data/lucasjia/projects/nutri/src/multi-nutrient/nb_v2_sub_laya.csv\", index=False)"
   ]
  }
 ],
 "metadata": {
  "kernelspec": {
   "display_name": "nutri",
   "language": "python",
   "name": "python3"
  },
  "language_info": {
   "codemirror_mode": {
    "name": "ipython",
    "version": 3
   },
   "file_extension": ".py",
   "mimetype": "text/x-python",
   "name": "python",
   "nbconvert_exporter": "python",
   "pygments_lexer": "ipython3",
   "version": "3.10.12"
  }
 },
 "nbformat": 4,
 "nbformat_minor": 5
}
